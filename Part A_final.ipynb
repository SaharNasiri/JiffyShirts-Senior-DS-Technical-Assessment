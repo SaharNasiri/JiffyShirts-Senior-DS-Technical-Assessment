{
 "cells": [
  {
   "cell_type": "code",
   "execution_count": 6,
   "metadata": {},
   "outputs": [],
   "source": [
    "import sqlite3\n",
    "import pandas as pd"
   ]
  },
  {
   "cell_type": "code",
   "execution_count": 7,
   "metadata": {},
   "outputs": [],
   "source": [
    "# load the data with pandas\n",
    "df_orders = pd.read_csv('orders.csv')\n",
    "df_customers = pd.read_csv('customers.csv')\n",
    "df_line_items = pd.read_csv('line_items.csv')"
   ]
  },
  {
   "cell_type": "code",
   "execution_count": 8,
   "metadata": {},
   "outputs": [],
   "source": [
    "# Make the connection to sqlite3 and make a db\n",
    "con = sqlite3.connect(\"interview.db\")\n",
    "cur = con.cursor()"
   ]
  },
  {
   "cell_type": "code",
   "execution_count": 9,
   "metadata": {},
   "outputs": [],
   "source": [
    "# # drop data into database into three tables\n",
    "df_orders.to_sql(\"orders\", con)\n",
    "df_customers.to_sql(\"customers\", con)\n",
    "df_line_items.to_sql(\"line_items\", con)"
   ]
  },
  {
   "cell_type": "markdown",
   "metadata": {},
   "source": [
    "1. How many orders were completed in 2018?"
   ]
  },
  {
   "cell_type": "code",
   "execution_count": 10,
   "metadata": {},
   "outputs": [
    {
     "name": "stdout",
     "output_type": "stream",
     "text": [
      "The number of orders in 2018 is  9219\n"
     ]
    }
   ],
   "source": [
    "cur.execute(\"\"\"SELECT COUNT(*) AS num_order\n",
    "                    FROM orders\n",
    "                    WHERE order_timestamp >= '2018-01-01'\n",
    "                            AND order_timestamp <= '2018-12-31';\"\"\")\n",
    "print('The number of orders in 2018 is ', cur.fetchall()[0][0])"
   ]
  },
  {
   "cell_type": "markdown",
   "metadata": {},
   "source": [
    "2. How many orders were completed in 2018 containing at least 10 units?"
   ]
  },
  {
   "cell_type": "code",
   "execution_count": 11,
   "metadata": {},
   "outputs": [
    {
     "name": "stdout",
     "output_type": "stream",
     "text": [
      "The number of orders in 2018 with at least 10 units is  5147\n"
     ]
    }
   ],
   "source": [
    "'''There are multiple lines of items for each order_id \n",
    "that is why we grouped by order_id in line_items table and then sum all the quanitities.'''\n",
    "\n",
    "cur.execute(\"\"\"SELECT COUNT(*) AS num_order \n",
    "                    FROM orders AS o\n",
    "                        JOIN (SELECT order_id, sum(quantity) AS total_quantity\n",
    "                                    FROM line_items\n",
    "                                    GROUP BY order_id) AS gl \n",
    "                            ON o.order_id = gl.order_id\n",
    "                    WHERE o.order_timestamp >= '2018-01-01'\n",
    "                            AND o.order_timestamp <= '2018-12-31'\n",
    "                            AND gl.total_quantity >= 10;\"\"\")\n",
    "\n",
    "print('The number of orders in 2018 with at least 10 units is ', cur.fetchall()[0][0])"
   ]
  },
  {
   "cell_type": "markdown",
   "metadata": {},
   "source": [
    "3. How many customers have ever purchased a medium sized sweater with a discount?"
   ]
  },
  {
   "cell_type": "code",
   "execution_count": 12,
   "metadata": {},
   "outputs": [
    {
     "name": "stdout",
     "output_type": "stream",
     "text": [
      "Number of customers that have purchased a medium sized sweater with a discount is  528\n"
     ]
    }
   ],
   "source": [
    "'''\n",
    "According to the question the conditions are customers with \n",
    "                                                        product_category = 'Sweater'\n",
    "                                                        size = 'M'\n",
    "                                                        quantity = 1\n",
    "                                                        discount > 0\n",
    "'''\n",
    "cur.execute(\"\"\"SELECT COUNT(DISTINCT o.customer_uid) AS num_customers\n",
    "                    FROM orders AS o\n",
    "                    JOIN line_items AS l ON o.order_id = l.order_id\n",
    "                    WHERE l.product_category = 'Sweater'\n",
    "                            AND l.size = 'M'\n",
    "                            AND l.quantity = 1\n",
    "                            AND 1.0*o.discount > 0;\"\"\")\n",
    "\n",
    "print('Number of customers that have purchased a medium sized sweater with a discount is ', cur.fetchall()[0][0])"
   ]
  },
  {
   "cell_type": "markdown",
   "metadata": {},
   "source": [
    "4. How profitable was our most profitable month?"
   ]
  },
  {
   "cell_type": "code",
   "execution_count": 13,
   "metadata": {},
   "outputs": [
    {
     "name": "stdout",
     "output_type": "stream",
     "text": [
      "The profit of the most profitable month is  55714.25\n"
     ]
    }
   ],
   "source": [
    "'''\n",
    "profit = ((quantity*selling_price)*(1-discount)*(1-returned)) +\n",
    "            shipping_revenue - \n",
    "            (quantity*supplier_cost) -\n",
    "            (shipping_cost)\n",
    "'''\n",
    "cur.execute(\"\"\"SELECT ROUND(SUM(profit), 2) as total_month_profit\n",
    "            FROM(SELECT o.order_id, ((l.total_sale*(1-o.discount)*(1-o.returned)) +\n",
    "                                o.shipping_revenue - l.total_supplier_cost - (shipping_cost)) AS profit,\n",
    "            strftime('%Y', order_timestamp) AS year, strftime('%m', order_timestamp) AS month\n",
    "            FROM orders AS o\n",
    "            JOIN (SELECT order_id, SUM(quantity*selling_price) AS total_sale, \n",
    "                                    SUM(quantity*supplier_cost) AS total_supplier_cost\n",
    "                    FROM line_items\n",
    "                    WHERE (selling_price IS NOT NULL) AND (supplier_cost IS NOT NULL)\n",
    "                    GROUP BY order_id)\n",
    "             AS l ON o.order_id = l.order_id)\n",
    "            GROUP BY year, month\n",
    "            ORDER BY total_month_profit DESC\n",
    "            LIMIT 1;\"\"\")\n",
    "print('The profit of the most profitable month is ', cur.fetchall()[0][0])"
   ]
  },
  {
   "cell_type": "markdown",
   "metadata": {},
   "source": [
    "5. What is the return rate for business vs. non-business customers?"
   ]
  },
  {
   "cell_type": "code",
   "execution_count": 19,
   "metadata": {},
   "outputs": [
    {
     "name": "stdout",
     "output_type": "stream",
     "text": [
      "Rate of return for business customers is 0.067 and for non-business customers is 0.049\n"
     ]
    }
   ],
   "source": [
    "cur.execute(\"\"\"SELECT c.is_business, ROUND(1.0*AVG(o.returned), 3) AS rate_of_return\n",
    "            FROM customers AS c\n",
    "            JOIN orders AS o ON c.customer_uid = o. customer_uid\n",
    "            GROUP BY c.is_business;\"\"\")\n",
    "\n",
    "rows = cur.fetchall()\n",
    "print(f'Rate of return for business customers is {rows[1][1]} and for non-business customers is {rows[0][1]}')"
   ]
  },
  {
   "cell_type": "code",
   "execution_count": null,
   "metadata": {},
   "outputs": [],
   "source": []
  }
 ],
 "metadata": {
  "kernelspec": {
   "display_name": "Python 3 (ipykernel)",
   "language": "python",
   "name": "python3"
  },
  "language_info": {
   "codemirror_mode": {
    "name": "ipython",
    "version": 3
   },
   "file_extension": ".py",
   "mimetype": "text/x-python",
   "name": "python",
   "nbconvert_exporter": "python",
   "pygments_lexer": "ipython3",
   "version": "3.9.13"
  }
 },
 "nbformat": 4,
 "nbformat_minor": 2
}
